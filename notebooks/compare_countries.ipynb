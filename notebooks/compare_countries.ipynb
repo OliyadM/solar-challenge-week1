{
 "cells": [
  {
   "cell_type": "code",
   "execution_count": null,
   "id": "66f53d69",
   "metadata": {},
   "outputs": [],
   "source": [
    "# Import libraries\n",
    "import pandas as pd\n",
    "import seaborn as sns\n",
    "import matplotlib.pyplot as plt\n",
    "from scipy.stats import f_oneway"
   ]
  },
  {
   "cell_type": "code",
   "execution_count": null,
   "id": "fc573575",
   "metadata": {},
   "outputs": [],
   "source": [
    "# Load cleaned datasets\n",
    "try:\n",
    "    benin_df = pd.read_csv('../data/benin_clean.csv')\n",
    "    sierra_df = pd.read_csv('../data/sierraleone_clean.csv')\n",
    "    togo_df = pd.read_csv('../data/togo_clean.csv')\n",
    "except FileNotFoundError as e:\n",
    "    print(f\"Error: {e}\")\n",
    "    exit()"
   ]
  },
  {
   "cell_type": "code",
   "execution_count": null,
   "id": "2b58ef94",
   "metadata": {},
   "outputs": [],
   "source": [
    "# Add country labels\n",
    "benin_df['Country'] = 'Benin'\n",
    "sierra_df['Country'] = 'Sierra Leone'\n",
    "togo_df['Country'] = 'Togo'\n",
    "combined_df = pd.concat([benin_df, sierra_df, togo_df])"
   ]
  },
  {
   "cell_type": "code",
   "execution_count": null,
   "id": "af11a220",
   "metadata": {},
   "outputs": [],
   "source": [
    "# Boxplots for GHI, DNI, DHI\n",
    "for metric in ['GHI', 'DNI', 'DHI']:\n",
    "    plt.figure(figsize=(10, 6))\n",
    "    sns.boxplot(x='Country', y=metric, data=combined_df, palette='Set2')\n",
    "    plt.title(f'{metric} Comparison Across Countries')\n",
    "    plt.savefig(f'../figures/{metric}_boxplot.png')\n",
    "    plt.show()"
   ]
  },
  {
   "cell_type": "code",
   "execution_count": null,
   "id": "171ec624",
   "metadata": {},
   "outputs": [],
   "source": [
    "# Summary Table\n",
    "summary_stats = pd.DataFrame({\n",
    "    'Country': ['Benin', 'Sierra Leone', 'Togo'],\n",
    "    'GHI_Mean': [benin_df['GHI'].mean(), sierra_df['GHI'].mean(), togo_df['GHI'].mean()],\n",
    "    'GHI_Median': [benin_df['GHI'].median(), sierra_df['GHI'].median(), togo_df['GHI'].median()],\n",
    "    'GHI_Std': [benin_df['GHI'].std(), sierra_df['GHI'].std(), togo_df['GHI'].std()],\n",
    "    'DNI_Mean': [benin_df['DNI'].mean(), sierra_df['DNI'].mean(), togo_df['DNI'].mean()],\n",
    "    'DNI_Median': [benin_df['DNI'].median(), sierra_df['DNI'].median(), togo_df['DNI'].median()],\n",
    "    'DNI_Std': [benin_df['DNI'].std(), sierra_df['DNI'].std(), togo_df['DNI'].std()],\n",
    "    'DHI_Mean': [benin_df['DHI'].mean(), sierra_df['DHI'].mean(), togo_df['DHI'].mean()],\n",
    "    'DHI_Median': [benin_df['DHI'].median(), sierra_df['DHI'].median(), togo_df['DHI'].median()],\n",
    "    'DHI_Std': [benin_df['DHI'].std(), sierra_df['DHI'].std(), togo_df['DHI'].std()]\n",
    "})"
   ]
  },
  {
   "cell_type": "code",
   "execution_count": null,
   "id": "1b880d80",
   "metadata": {},
   "outputs": [],
   "source": [
    "print(\"Summary Statistics Across Countries:\")\n",
    "display(summary_stats)\n",
    "summary_stats.to_csv('../data/summary_stats.csv', index=False)"
   ]
  },
  {
   "cell_type": "code",
   "execution_count": null,
   "id": "bc4873d8",
   "metadata": {},
   "outputs": [],
   "source": [
    "# ANOVA for GHI\n",
    "f_stat, p_value = f_oneway(benin_df['GHI'], sierra_df['GHI'], togo_df['GHI'])\n",
    "print(f\"ANOVA for GHI: F-statistic = {f_stat:.2f}, p-value = {p_value:.4f}\")\n"
   ]
  },
  {
   "cell_type": "code",
   "execution_count": null,
   "id": "10852b6a",
   "metadata": {},
   "outputs": [],
   "source": [
    "# Bar Chart for Average GHI\n",
    "plt.figure(figsize=(8, 5))\n",
    "sns.barplot(x='Country', y='GHI_Mean', data=summary_stats, palette='Set2')\n",
    "plt.title('Average GHI by Country')\n",
    "plt.savefig('../figures/ghi_ranking.png')\n",
    "plt.show()"
   ]
  }
 ],
 "metadata": {
  "language_info": {
   "name": "python"
  }
 },
 "nbformat": 4,
 "nbformat_minor": 5
}
