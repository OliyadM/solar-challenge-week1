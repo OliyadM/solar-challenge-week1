{
 "cells": [
  {
   "cell_type": "code",
   "execution_count": null,
   "id": "0e9320c0",
   "metadata": {},
   "outputs": [],
   "source": [
    "import pandas as pd\n",
    "import numpy as np\n",
    "import matplotlib.pyplot as plt\n",
    "import seaborn as sns\n",
    "from scipy import stats"
   ]
  },
  {
   "cell_type": "code",
   "execution_count": null,
   "id": "5ac43d45",
   "metadata": {},
   "outputs": [],
   "source": [
    "df = pd.read_csv('../data/sierraleone-bumbuna.csv')  \n",
    "print(\"Data loaded successfully! First 5 rows:\")\n",
    "df.head()"
   ]
  },
  {
   "cell_type": "code",
   "execution_count": null,
   "id": "21e17c24",
   "metadata": {},
   "outputs": [],
   "source": [
    "\n",
    "print(\"Summary Statistics:\")\n",
    "display(df.describe())\n",
    "\n",
    "print(\"\\nMissing Values:\")\n",
    "missing = df.isna().sum()\n",
    "display(missing[missing > 0])  "
   ]
  },
  {
   "cell_type": "code",
   "execution_count": null,
   "id": "7ac75ca0",
   "metadata": {},
   "outputs": [],
   "source": [
    "\n",
    "df_clean = df.dropna(subset=['GHI', 'DNI'])\n",
    "\n",
    "# Remove outliers (Z-score > 3)\n",
    "numeric_cols = ['GHI', 'DNI', 'WS', 'WSgust']\n",
    "z_scores = np.abs(stats.zscore(df_clean[numeric_cols]))\n",
    "df_clean = df_clean[(z_scores < 3).all(axis=1)]\n",
    "\n",
    "print(f\"Cleaned data shape: {df_clean.shape}\")"
   ]
  },
  {
   "cell_type": "code",
   "execution_count": null,
   "id": "08e6b079",
   "metadata": {},
   "outputs": [],
   "source": [
    "plt.figure(figsize=(10, 8))\n",
    "sns.heatmap(df_clean[['GHI', 'Tamb', 'RH', 'WS']].corr(), annot=True, cmap='coolwarm')\n",
    "plt.title('Variable Correlations')\n",
    "plt.show()"
   ]
  },
  {
   "cell_type": "code",
   "execution_count": null,
   "id": "1326259f",
   "metadata": {},
   "outputs": [],
   "source": [
    "df_clean.to_csv('../data/sierraleone_clean.csv', index=True)  \n",
    "print(\"Cleaned data exported to data/sierraleonez-clean.csv\")"
   ]
  }
 ],
 "metadata": {
  "kernelspec": {
   "display_name": "venv",
   "language": "python",
   "name": "python3"
  },
  "language_info": {
   "name": "python",
   "version": "3.12.0"
  }
 },
 "nbformat": 4,
 "nbformat_minor": 5
}
